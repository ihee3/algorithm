{
 "cells": [
  {
   "cell_type": "code",
   "execution_count": 1,
   "metadata": {},
   "outputs": [],
   "source": [
    "class Stack:\n",
    "    def __init__(self):\n",
    "        self.items = []\n",
    "\n",
    "    def push(self, value):\n",
    "        self.items.append(value) #O(1)\n",
    "\n",
    "    def pop(self):\n",
    "        try:\n",
    "            return self.items.pop()\n",
    "        except IndexError:\n",
    "            print(\"Stack is empty\") #O(1)\n",
    "\n",
    "    def top(self):\n",
    "        try:\n",
    "            return self.items[-1]\n",
    "        except IndexError:\n",
    "            print(\"Stack is empty\") #O(1)\n",
    "\n",
    "    def __len__(self):\n",
    "        return len(self.items) #O(1)\n",
    "\n"
   ]
  },
  {
   "cell_type": "code",
   "execution_count": 2,
   "metadata": {},
   "outputs": [
    {
     "data": {
      "text/plain": [
       "3"
      ]
     },
     "execution_count": 2,
     "metadata": {},
     "output_type": "execute_result"
    }
   ],
   "source": [
    "s = Stack()\n",
    "s.push(398)\n",
    "s.push(91)\n",
    "s.push(932)\n",
    "len(s)"
   ]
  },
  {
   "cell_type": "code",
   "execution_count": 3,
   "metadata": {},
   "outputs": [
    {
     "data": {
      "text/plain": [
       "932"
      ]
     },
     "execution_count": 3,
     "metadata": {},
     "output_type": "execute_result"
    }
   ],
   "source": [
    "s.top()"
   ]
  },
  {
   "cell_type": "code",
   "execution_count": 4,
   "metadata": {},
   "outputs": [
    {
     "data": {
      "text/plain": [
       "91"
      ]
     },
     "execution_count": 4,
     "metadata": {},
     "output_type": "execute_result"
    }
   ],
   "source": [
    "s.pop()\n",
    "s.pop()"
   ]
  },
  {
   "cell_type": "code",
   "execution_count": 5,
   "metadata": {},
   "outputs": [
    {
     "data": {
      "text/plain": [
       "1"
      ]
     },
     "execution_count": 5,
     "metadata": {},
     "output_type": "execute_result"
    }
   ],
   "source": [
    "len(s)"
   ]
  },
  {
   "cell_type": "code",
   "execution_count": 6,
   "metadata": {},
   "outputs": [
    {
     "data": {
      "text/plain": [
       "398"
      ]
     },
     "execution_count": 6,
     "metadata": {},
     "output_type": "execute_result"
    }
   ],
   "source": [
    "s.top()"
   ]
  },
  {
   "cell_type": "code",
   "execution_count": 7,
   "metadata": {},
   "outputs": [],
   "source": [
    "# ex1_괄호 맞추기\n",
    "# 문제 ; 입력-> 왼쪽, 오른쪽 괄호의 문자열\n",
    "#       출력 -> 괄호 쌍이 바르게 배치되어 있으면 true, 아니면 false가 return됨 \n",
    "\n",
    "# 왼쪽으로 닫힌 괄호는 push, 짝인 오른쪽 괄호가 나타나면 pop해서 마지막에 스택이 비워지면 True!\n",
    "\n",
    "class Stack_for_parseq(Stack):\n",
    "    def __init__(self):\n",
    "        super().__init__()\n",
    "\n",
    "    def pop(self):\n",
    "        return self.items.pop()\n",
    "    \n",
    "    \n",
    "def match_pars(parseq):\n",
    "\n",
    "    stack = Stack_for_parseq()\n",
    "\n",
    "    for i in parseq:\n",
    "        if i == '(':\n",
    "            stack.push(i)\n",
    "        elif i == ')':\n",
    "            try: stack.pop() \n",
    "            except IndexError:\n",
    "                return print(False)\n",
    "        \n",
    "        else:\n",
    "            print(\"Not allowed symbol\")\n",
    "\n",
    "    if len(stack) > 0:\n",
    "        return print(False)\n",
    "    else:\n",
    "        return print(True)\n"
   ]
  },
  {
   "cell_type": "code",
   "execution_count": 8,
   "metadata": {},
   "outputs": [
    {
     "name": "stdout",
     "output_type": "stream",
     "text": [
      "False\n"
     ]
    }
   ],
   "source": [
    "inp = \"(())(()())(())))\"\n",
    "\n",
    "match_1 = match_pars(inp)"
   ]
  },
  {
   "cell_type": "code",
   "execution_count": 9,
   "metadata": {},
   "outputs": [
    {
     "name": "stdout",
     "output_type": "stream",
     "text": [
      "True\n"
     ]
    }
   ],
   "source": [
    "inp_2 = \"((((()))))\"\n",
    "\n",
    "march_2 = match_pars(inp_2)"
   ]
  },
  {
   "cell_type": "code",
   "execution_count": null,
   "metadata": {},
   "outputs": [],
   "source": []
  }
 ],
 "metadata": {
  "kernelspec": {
   "display_name": "Python 3",
   "language": "python",
   "name": "python3"
  },
  "language_info": {
   "codemirror_mode": {
    "name": "ipython",
    "version": 3
   },
   "file_extension": ".py",
   "mimetype": "text/x-python",
   "name": "python",
   "nbconvert_exporter": "python",
   "pygments_lexer": "ipython3",
   "version": "3.11.3"
  }
 },
 "nbformat": 4,
 "nbformat_minor": 2
}
