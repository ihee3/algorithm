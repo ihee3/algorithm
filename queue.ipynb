{
 "cells": [
  {
   "cell_type": "code",
   "execution_count": 1,
   "metadata": {},
   "outputs": [],
   "source": [
    "class Queue:\n",
    "    def __init__(self):\n",
    "        self.items = []\n",
    "        self.front_idx = 0\n",
    "\n",
    "    def enqueue(self, value):\n",
    "        self.items.append(value)\n",
    "\n",
    "    def dequeue(self):\n",
    "        if self.front_idx == len(self.items):\n",
    "            print(\"Queue is empty\")\n",
    "            return None\n",
    "        else:\n",
    "            token = self.items[self.front_idx]\n",
    "            self.front_idx += 1\n",
    "            return token\n",
    "        \n",
    "    def get_queue(self):\n",
    "        return print(self.items)"
   ]
  },
  {
   "cell_type": "code",
   "execution_count": 2,
   "metadata": {},
   "outputs": [],
   "source": [
    "#큐 예시 - Josephus problem\n",
    "def josephus(num_survivor, bullet):\n",
    "    surviver = Queue()\n",
    "\n",
    "    for i in range(1,num_survivor+1):\n",
    "        surviver.enqueue(i)\n",
    "\n",
    "    while num_survivor > 1:\n",
    "        if (surviver.front_idx + 1) % bullet == 0:\n",
    "            surviver.dequeue()\n",
    "            num_survivor -= 1\n",
    "\n",
    "        else:\n",
    "            tmp = surviver.dequeue()\n",
    "            surviver.enqueue(tmp)\n",
    "    \n",
    "        surviver.get_queue()\n",
    "    \n",
    "    return print(\"The last person's number is :\", surviver.items[-1] )"
   ]
  },
  {
   "cell_type": "code",
   "execution_count": 3,
   "metadata": {},
   "outputs": [
    {
     "name": "stdout",
     "output_type": "stream",
     "text": [
      "[1, 2, 3, 4, 5, 6, 1]\n",
      "[1, 2, 3, 4, 5, 6, 1, 2]\n",
      "[1, 2, 3, 4, 5, 6, 1, 2]\n",
      "[1, 2, 3, 4, 5, 6, 1, 2, 4]\n",
      "[1, 2, 3, 4, 5, 6, 1, 2, 4, 5]\n",
      "[1, 2, 3, 4, 5, 6, 1, 2, 4, 5]\n",
      "[1, 2, 3, 4, 5, 6, 1, 2, 4, 5, 1]\n",
      "[1, 2, 3, 4, 5, 6, 1, 2, 4, 5, 1, 2]\n",
      "[1, 2, 3, 4, 5, 6, 1, 2, 4, 5, 1, 2]\n",
      "[1, 2, 3, 4, 5, 6, 1, 2, 4, 5, 1, 2, 5]\n",
      "[1, 2, 3, 4, 5, 6, 1, 2, 4, 5, 1, 2, 5, 1]\n",
      "[1, 2, 3, 4, 5, 6, 1, 2, 4, 5, 1, 2, 5, 1]\n",
      "[1, 2, 3, 4, 5, 6, 1, 2, 4, 5, 1, 2, 5, 1, 5]\n",
      "[1, 2, 3, 4, 5, 6, 1, 2, 4, 5, 1, 2, 5, 1, 5, 1]\n",
      "[1, 2, 3, 4, 5, 6, 1, 2, 4, 5, 1, 2, 5, 1, 5, 1]\n",
      "The last person's number is : 1\n"
     ]
    }
   ],
   "source": [
    "q = josephus(6,3)"
   ]
  }
 ],
 "metadata": {
  "kernelspec": {
   "display_name": "Python 3",
   "language": "python",
   "name": "python3"
  },
  "language_info": {
   "codemirror_mode": {
    "name": "ipython",
    "version": 3
   },
   "file_extension": ".py",
   "mimetype": "text/x-python",
   "name": "python",
   "nbconvert_exporter": "python",
   "pygments_lexer": "ipython3",
   "version": "3.11.3"
  }
 },
 "nbformat": 4,
 "nbformat_minor": 2
}
