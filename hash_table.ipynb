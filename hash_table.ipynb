{
 "cells": [
  {
   "cell_type": "code",
   "execution_count": 1,
   "metadata": {},
   "outputs": [],
   "source": [
    "table_len = 10\n",
    "hash_table = [[] for _ in range(table_len)]"
   ]
  },
  {
   "cell_type": "code",
   "execution_count": 2,
   "metadata": {},
   "outputs": [
    {
     "data": {
      "text/plain": [
       "[[], [], [], [], [], [], [], [], [], []]"
      ]
     },
     "execution_count": 2,
     "metadata": {},
     "output_type": "execute_result"
    }
   ],
   "source": [
    "hash_table"
   ]
  },
  {
   "cell_type": "code",
   "execution_count": 3,
   "metadata": {},
   "outputs": [
    {
     "data": {
      "text/plain": [
       "[(20200612, 'Nahee'),\n",
       " (20230609, 'Nia'),\n",
       " (20240606, 'Amy'),\n",
       " (20221011, 'John'),\n",
       " [],\n",
       " [],\n",
       " [],\n",
       " [],\n",
       " [],\n",
       " []]"
      ]
     },
     "execution_count": 3,
     "metadata": {},
     "output_type": "execute_result"
    }
   ],
   "source": [
    "dates = [20221011, 20240606, 20230609, 20200612]\n",
    "names = ['John', 'Amy', 'Nia', 'Nahee']\n",
    "\n",
    "for date, name in zip(dates, names):\n",
    "    h = date % len(dates)\n",
    "    hash_table[h] = (date, name)\n",
    "\n",
    "hash_table"
   ]
  },
  {
   "cell_type": "code",
   "execution_count": 4,
   "metadata": {},
   "outputs": [
    {
     "data": {
      "text/plain": [
       "True"
      ]
     },
     "execution_count": 4,
     "metadata": {},
     "output_type": "execute_result"
    }
   ],
   "source": [
    "hash_table[3][0] == 20221011"
   ]
  },
  {
   "cell_type": "code",
   "execution_count": 5,
   "metadata": {},
   "outputs": [],
   "source": [
    "class HashTable: #collision resolvation method : linear probing\n",
    "    def __init__(self, length = 10):\n",
    "        self.capacity = length\n",
    "        self.table = [[None] for _ in range(self.capacity)]\n",
    "\n",
    "    def hash_function(self, key):\n",
    "        return hash(key) % self.capacity\n",
    "        \n",
    "    \n",
    "    def find_slot(self, key):\n",
    "        i = self.hash_function(key)\n",
    "        start = i \n",
    "        while (self.table[i][0] is not None) and (self.table[i][0] != key):\n",
    "            i = (i+1)%self.capacity\n",
    "            if i == start:\n",
    "                print(\"Table is Full\")\n",
    "                return None\n",
    "        return i \n",
    "    \n",
    "    def set(self, key, value = None):\n",
    "        slot = self.find_slot(key)\n",
    "        if slot is None:\n",
    "            print(\"Table is Full. Capacity needs to be bigger.\")\n",
    "            return None\n",
    "      \n",
    "        self.table[slot] = (key, value)\n",
    "        return key\n",
    "    \n",
    "    def search(self, key):\n",
    "        slot = self.find_slot(key)\n",
    "        if slot is not None and self.table[slot][0] == key:\n",
    "            print(\"Slot #\", slot)\n",
    "            return True\n",
    "        else:\n",
    "            return None\n",
    "        \n",
    "    def remove(self, key):\n",
    "        slot = self.find_slot(key)\n",
    "        if self.table[slot] is None:\n",
    "            return None\n",
    "        moving_slot = slot\n",
    "        while True:\n",
    "            self.table[moving_slot] = None\n",
    "            while True:\n",
    "                moving_slot = (moving_slot+1)% self.capacity\n",
    "                if self.table[moving_slot] is None:\n",
    "                    return key\n",
    "                init_slot = self.hash_function(self.table[moving_slot][0])\n",
    "                if not (slot < init_slot <= moving_slot or moving_slot < slot < init_slot or init_slot <= moving_slot < slot):\n",
    "                    break\n",
    "            self.table[slot] = self.table[moving_slot]\n",
    "            slot = moving_slot\n",
    "\n",
    "            \n"
   ]
  },
  {
   "cell_type": "code",
   "execution_count": 6,
   "metadata": {},
   "outputs": [
    {
     "data": {
      "text/plain": [
       "[(20180490, 'Toy'),\n",
       " [None],\n",
       " [None],\n",
       " [None],\n",
       " [None],\n",
       " (20110395, 'Maria'),\n",
       " (20170305, 'Pooh'),\n",
       " (20219487, 'Cheese'),\n",
       " [None],\n",
       " [None]]"
      ]
     },
     "execution_count": 6,
     "metadata": {},
     "output_type": "execute_result"
    }
   ],
   "source": [
    "new_table = HashTable()\n",
    "\n",
    "nums = [20180490, 20219487, 20110395,20170305]\n",
    "names = ['Toy', 'Cheese', 'Maria', 'Pooh']\n",
    "\n",
    "for num, name in zip(nums, names):\n",
    "    new_table.set(num, name)\n",
    "\n",
    "new_table.table"
   ]
  },
  {
   "cell_type": "code",
   "execution_count": 7,
   "metadata": {},
   "outputs": [
    {
     "name": "stdout",
     "output_type": "stream",
     "text": [
      "Slot # 6\n"
     ]
    },
    {
     "data": {
      "text/plain": [
       "[(20180490, 'Toy'),\n",
       " [None],\n",
       " [None],\n",
       " [None],\n",
       " [None],\n",
       " (20110395, 'Maria'),\n",
       " (20170305, 'Pooh'),\n",
       " (20219487, 'Cheese'),\n",
       " [None],\n",
       " [None]]"
      ]
     },
     "execution_count": 7,
     "metadata": {},
     "output_type": "execute_result"
    }
   ],
   "source": [
    "new_table.search(20170305)\n",
    "new_table.table"
   ]
  },
  {
   "cell_type": "code",
   "execution_count": 8,
   "metadata": {},
   "outputs": [
    {
     "data": {
      "text/plain": [
       "[(20180490, 'Toy'),\n",
       " [None],\n",
       " [None],\n",
       " None,\n",
       " [None],\n",
       " (20170305, 'Pooh'),\n",
       " [None],\n",
       " (20219487, 'Cheese'),\n",
       " [None],\n",
       " [None]]"
      ]
     },
     "execution_count": 8,
     "metadata": {},
     "output_type": "execute_result"
    }
   ],
   "source": [
    "new_table.remove(20110395)\n",
    "new_table.table"
   ]
  },
  {
   "cell_type": "code",
   "execution_count": null,
   "metadata": {},
   "outputs": [],
   "source": []
  }
 ],
 "metadata": {
  "kernelspec": {
   "display_name": "Python 3",
   "language": "python",
   "name": "python3"
  },
  "language_info": {
   "codemirror_mode": {
    "name": "ipython",
    "version": 3
   },
   "file_extension": ".py",
   "mimetype": "text/x-python",
   "name": "python",
   "nbconvert_exporter": "python",
   "pygments_lexer": "ipython3",
   "version": "3.11.3"
  }
 },
 "nbformat": 4,
 "nbformat_minor": 2
}
